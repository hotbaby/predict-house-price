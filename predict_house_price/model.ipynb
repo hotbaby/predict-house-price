{
 "cells": [
  {
   "cell_type": "markdown",
   "metadata": {},
   "source": [
    "# PaddlePaddle实现线性回归\n",
    "\n",
    "在本次实验中我们将使用PaddlePaddle来搭建一个简单的线性回归模型，并利用这一模型预测你的储蓄（在某地区）可以购买多大面积的房子。并且在学习模型搭建的过程中，了解到机器学习的若干重要概念，掌握一个机器学习预测的基本流程。\n",
    "\n",
    "**线性回归的基本概念**\n",
    "\n",
    "线性回归是机器学习中最简单也是最重要的模型之一，其模型建立遵循此流程：获取数据、数据预处理、训练模型、应用模型。\n",
    "\n",
    "回归模型可以理解为：存在一个点集，用一条曲线去拟合它分布的过程。如果拟合曲线是一条直线，则称为线性回归。如果是一条二次曲线，则被称为二次回归。线性回归是回归模型中最简单的一种。\n",
    "\n",
    "在线性回归中有几个基本的概念需要掌握：\n",
    "- 假设函数（Hypothesis Function）\n",
    "- 损失函数（Loss Function）\n",
    "- 优化算法（Optimization Algori# PaddlePaddle实现线性回归\n",
    "\n",
    "在本次实验中我们将使用PaddlePaddle来搭建一个简单的线性回归模型，并利用这一模型预测你的储蓄（在某地区）可以购买多大面积的房子。并且在学习模型搭建的过程中，了解到机器学习的若干重要概念，掌握一个机器学习预测的基本流程。\n",
    "\n",
    "**线性回归的基本概念**\n",
    "\n",
    "线性回归是机器学习中最简单也是最重要的模型之一，其模型建立遵循此流程：获取数据、数据预处理、训练模型、应用模型。\n",
    "\n",
    "回归模型可以理解为：存在一个点集，用一条曲线去拟合它分布的过程。如果拟合曲线是一条直线，则称为线性回归。如果是一条二次曲线，则被称为二次回归。线性回归是回归模型中最简单的一种。\n",
    "\n",
    "在线性回归中有几个基本的概念需要掌握：\n",
    "- 假设函数（Hypothesis Function）\n",
    "- 损失函数（Loss Function）\n",
    "- 优化算法（Optimization Algorithm）\n",
    "\n",
    "#### 假设函数：\n",
    "\n",
    "假设函数是指，用数学的方法描述自变量和因变量之间的关系，它们之间可以是一个线性函数或非线性函数。\n",
    "在本次线性回顾模型中，我们的假设函数为 $\\hat{Y}= aX_1+b$ ，其中，$\\hat{Y}$表示模型的预测结果（预测房价），用来和真实的Y区分。模型要学习的参数即：a,b。\n",
    "\n",
    "#### 损失函数：\n",
    "\n",
    "损失函数是指，用数学的方法衡量假设函数预测结果与真实值之间的误差。这个差距越小预测越准确，而算法的任务就是使这个差距越来越小。\n",
    "\n",
    "建立模型后，我们需要给模型一个优化目标，使得学到的参数能够让预测值$\\hat{Y}$尽可能地接近真实值Y。输入任意一个数据样本的目标值$y_i$和模型给出的预测值$\\hat{Y_i$，损失函数输出一个非负的实值。这个实值通常用来反映模型误差的大小。\n",
    "\n",
    "对于线性模型来讲，最常用的损失函数就是均方误差（Mean Squared Error， MSE）。\n",
    "\n",
    "$MSE=\\frac{1}{n}\\sum_{i=1}^{n}(\\hat{Y_i}-Y_i)^2$\n",
    "\n",
    "即对于一个大小为n的测试集，MSE是n个数据预测结果误差平方的均值。\n",
    "\n",
    "#### 优化算法：\n",
    "\n",
    "在模型训练中优化算法也是至关重要的，它决定了一个模型的精度和运算速度。本章的线性回归实例中主要使用了梯度下降法进行优化。\n",
    "\n",
    "现在，让我们正式进入实验吧！thm）\n",
    "\n",
    "#### 假设函数：\n",
    "\n",
    "假设函数是指，用数学的方法描述自变量和因变量之间的关系，它们之间可以是一个线性函数或非线性函数。\n",
    "在本次线性回顾模型中，我们的假设函数为 $\\hat{Y}= aX_1+b$ ，其中，$\\hat{Y}$表示模型的预测结果（预测房价），用来和真实的Y区分。模型要学习的参数即：a,b。\n",
    "\n",
    "#### 损失函数：\n",
    "\n",
    "损失函数是指，用数学的方法衡量假设函数预测结果与真实值之间的误差。这个差距越小预测越准确，而算法的任务就是使这个差距越来越小。\n",
    "\n",
    "建立模型后，我们需要给模型一个优化目标，使得学到的参数能够让预测值$\\hat{Y}$尽可能地接近真实值Y。输入任意一个数据样本的目标值$y_i$和模型给出的预测值$\\hat{Y_i$，损失函数输出一个非负的实值。这个实值通常用来反映模型误差的大小。\n",
    "\n",
    "对于线性模型来讲，最常用的损失函数就是均方误差（Mean Squared Error， MSE）。\n",
    "\n",
    "$MSE=\\frac{1}{n}\\sum_{i=1}^{n}(\\hat{Y_i}-Y_i)^2$\n",
    "\n",
    "即对于一个大小为n的测试集，MSE是n个数据预测结果误差平方的均值。\n",
    "\n",
    "#### 优化算法：\n",
    "\n",
    "在模型训练中优化算法也是至关重要的，它决定了一个模型的精度和运算速度。本章的线性回归实例中主要使用了梯度下降法进行优化。\n",
    "\n",
    "现在，让我们正式进入实验吧！"
   ]
  },
  {
   "cell_type": "markdown",
   "metadata": {},
   "source": [
    "**首先导入必要的包**，分别是：\n",
    "\n",
    "**paddle.fluid**--->PaddlePaddle深度学习框架\n",
    "\n",
    "**numpy**---------->python基本库，用于科学计算\n",
    "\n",
    "**os**------------------>python的模块，可使用该模块对操作系统进行操作\n",
    "\n",
    "**matplotlib**----->python绘图库，可方便绘制折线图、散点图等图形"
   ]
  },
  {
   "cell_type": "code",
   "execution_count": 1,
   "metadata": {},
   "outputs": [],
   "source": [
    "import paddle.fluid as fluid\n",
    "import paddle\n",
    "import numpy as np\n",
    "import os\n",
    "import matplotlib.pyplot as plt\n",
    "\n",
    "%matplotlib inline\n",
    "\n"
   ]
  },
  {
   "cell_type": "markdown",
   "metadata": {},
   "source": [
    "# **Step1：准备数据。**\n",
    "\n",
    "（1）uci-housing数据集介绍\n",
    "\n",
    "数据集共506行,每行14列。前13列用来描述房屋的各种信息，最后一列为该类房屋价格中位数。\n",
    "\n",
    "PaddlePaddle提供了读取uci_housing训练集和测试集的接口，分别为paddle.dataset.uci_housing.train()和paddle.dataset.uci_housing.test()。\n",
    "\n",
    "(2)train_reader和test_reader\n",
    "\n",
    "paddle.reader.shuffle()表示每次缓存BUF_SIZE个数据项，并进行打乱\n",
    "\n",
    "paddle.batch()表示每BATCH_SIZE组成一个batch"
   ]
  },
  {
   "cell_type": "code",
   "execution_count": 2,
   "metadata": {},
   "outputs": [
    {
     "name": "stderr",
     "output_type": "stream",
     "text": [
      "\n",
      "\n"
     ]
    }
   ],
   "source": [
    "BUF_SIZE=500\n",
    "BATCH_SIZE=20\n",
    "\n",
    "#用于训练的数据提供器，每次从缓存中随机读取批次大小的数据\n",
    "train_reader = paddle.batch(\n",
    "    paddle.reader.shuffle(paddle.dataset.uci_housing.train(), \n",
    "                          buf_size=BUF_SIZE),                    \n",
    "    batch_size=BATCH_SIZE)   \n",
    "#用于测试的数据提供器，每次从缓存中随机读取批次大小的数据\n",
    "test_reader = paddle.batch(\n",
    "    paddle.reader.shuffle(paddle.dataset.uci_housing.test(),\n",
    "                          buf_size=BUF_SIZE),\n",
    "    batch_size=BATCH_SIZE)\n"
   ]
  },
  {
   "cell_type": "markdown",
   "metadata": {},
   "source": [
    "(3)打印看下数据是什么样的？PaddlePaddle接口提供的数据已经经过归一化等处理\n",
    "\n",
    "(array([-0.02964322, -0.11363636,  0.39417967, -0.06916996,  0.14260276,\n",
    "       -0.10109875,  0.30715859, -0.13176829, -0.24127857,  0.05489093,\n",
    "        0.29196451, -0.2368098 ,  0.12850267]), array([15.6])),"
   ]
  },
  {
   "cell_type": "code",
   "execution_count": 3,
   "metadata": {},
   "outputs": [
    {
     "name": "stdout",
     "output_type": "stream",
     "text": [
      "(array([-0.0405441 ,  0.06636364, -0.32356227, -0.06916996, -0.03435197,\n",
      "        0.05563625, -0.03475696,  0.02682186, -0.37171335, -0.21419304,\n",
      "       -0.33569506,  0.10143217, -0.21172912]), array([24.]))\n"
     ]
    },
    {
     "name": "stderr",
     "output_type": "stream",
     "text": [
      "\n"
     ]
    }
   ],
   "source": [
    "#用于打印，查看uci_housing数据\n",
    "train_data=paddle.dataset.uci_housing.train();\n",
    "sampledata=next(train_data())\n",
    "print(sampledata)"
   ]
  },
  {
   "cell_type": "markdown",
   "metadata": {},
   "source": [
    "# **Step2:网络配置**\n",
    "\n",
    "**（1）网络搭建**：对于线性回归来讲，它就是一个从输入到输出的简单的全连接层。\n",
    "\n",
    "对于波士顿房价数据集，假设属性和房价之间的关系可以被属性间的线性组合描述。\n",
    "\n",
    "![](https://ai-studio-static-online.cdn.bcebos.com/f3f567e7aa7a499fb3abb767aaaa1b943eed373cf4694d87beb382e161ea8edc)\n",
    "\n",
    "![](https://ai-studio-static-online.cdn.bcebos.com/f6c44a96e1624828829bbd438c29c17ead9ecc45c68b4310bfbbb0a4dc96c3fe)\n"
   ]
  },
  {
   "cell_type": "code",
   "execution_count": 4,
   "metadata": {},
   "outputs": [],
   "source": [
    "#定义张量变量x，表示13维的特征值\n",
    "x = fluid.layers.data(name='x', shape=[13], dtype='float32')\n",
    "#定义张量y,表示目标值\n",
    "y = fluid.layers.data(name='y', shape=[1], dtype='float32')\n",
    "#定义一个简单的线性网络,连接输入和输出的全连接层\n",
    "#input:输入tensor;\n",
    "#size:该层输出单元的数目\n",
    "#act:激活函数\n",
    "y_predict=fluid.layers.fc(input=x,size=1,act=None)"
   ]
  },
  {
   "cell_type": "markdown",
   "metadata": {},
   "source": [
    "**(2)定义损失函数**\n",
    "\n",
    "此处使用均方差损失函数。\n",
    "\n",
    "square_error_cost(input,lable):接受输入预测值和目标值，并返回方差估计,即为（y-y_predict）的平方"
   ]
  },
  {
   "cell_type": "code",
   "execution_count": 5,
   "metadata": {},
   "outputs": [],
   "source": [
    "cost = fluid.layers.square_error_cost(input=y_predict, label=y) #求一个batch的损失值\n",
    "avg_cost = fluid.layers.mean(cost)                              #对损失值求平均值"
   ]
  },
  {
   "cell_type": "markdown",
   "metadata": {},
   "source": [
    "**(3)定义优化函数**\n",
    "\n",
    "此处使用的是随机梯度下降。"
   ]
  },
  {
   "cell_type": "code",
   "execution_count": 6,
   "metadata": {},
   "outputs": [],
   "source": [
    "test_program = fluid.default_main_program().clone(for_test=True)\n",
    "optimizer = fluid.optimizer.SGDOptimizer(learning_rate=0.001)\n",
    "opts = optimizer.minimize(avg_cost)"
   ]
  },
  {
   "cell_type": "markdown",
   "metadata": {},
   "source": [
    "在上述模型配置完毕后，得到两个fluid.Program：fluid.default_startup_program() 与fluid.default_main_program() 配置完毕了。\n",
    "\n",
    "参数初始化操作会被写入**fluid.default_startup_program()**\n",
    "\n",
    "**fluid.default_main_program**()用于获取默认或全局main program(主程序)。该主程序用于训练和测试模型。fluid.layers 中的所有layer函数可以向 default_main_program 中添加算子和变量。default_main_program 是fluid的许多编程接口（API）的Program参数的缺省值。例如,当用户program没有传入的时候， Executor.run() 会默认执行 default_main_program 。"
   ]
  },
  {
   "cell_type": "markdown",
   "metadata": {},
   "source": [
    "# **Step3.模型训练** and **Step4.模型评估**"
   ]
  },
  {
   "cell_type": "markdown",
   "metadata": {},
   "source": [
    "**（1）创建Executor**\n",
    "\n",
    "首先定义运算场所 fluid.CPUPlace()和 fluid.CUDAPlace(0)分别表示运算场所为CPU和GPU\n",
    "\n",
    "Executor:接收传入的program，通过run()方法运行program。"
   ]
  },
  {
   "cell_type": "code",
   "execution_count": 7,
   "metadata": {},
   "outputs": [
    {
     "data": {
      "text/plain": [
       "[]"
      ]
     },
     "execution_count": 7,
     "metadata": {},
     "output_type": "execute_result"
    }
   ],
   "source": [
    "\n",
    "use_cuda = False                         #use_cuda为False,表示运算场所为CPU;use_cuda为True,表示运算场所为GPU           \n",
    "place = fluid.CUDAPlace(0) if use_cuda else fluid.CPUPlace()\n",
    "exe = fluid.Executor(place)              #创建一个Executor实例exe\n",
    "exe.run(fluid.default_startup_program()) #Executor的run()方法执行startup_program(),进行参数初始化"
   ]
  },
  {
   "cell_type": "markdown",
   "metadata": {},
   "source": [
    "**（2）定义输入数据维度**\n",
    "\n",
    "DataFeeder负责将数据提供器（train_reader,test_reader）返回的数据转成一种特殊的数据结构，使其可以输入到Executor中。\n",
    "\n",
    "feed_list设置向模型输入的向变量表或者变量表名"
   ]
  },
  {
   "cell_type": "code",
   "execution_count": 8,
   "metadata": {},
   "outputs": [],
   "source": [
    "# 定义输入数据维度\n",
    "feeder = fluid.DataFeeder(place=place, feed_list=[x, y])#feed_list:向模型输入的变量表或变量表名"
   ]
  },
  {
   "cell_type": "markdown",
   "metadata": {},
   "source": [
    "**（3）定义绘制训练过程的损失值变化趋势的方法draw_train_process**"
   ]
  },
  {
   "cell_type": "code",
   "execution_count": 9,
   "metadata": {},
   "outputs": [],
   "source": [
    "iter=0;\n",
    "iters=[]\n",
    "train_costs=[]\n",
    "\n",
    "%matplotlib inline\n",
    "\n",
    "def draw_train_process(iters,train_costs):\n",
    "    title=\"training cost\"\n",
    "    plt.title(title, fontsize=24)\n",
    "    plt.xlabel(\"iter\", fontsize=14)\n",
    "    plt.ylabel(\"cost\", fontsize=14)\n",
    "    plt.plot(iters, train_costs,color='red',label='training cost') \n",
    "    plt.grid()\n",
    "    plt.show()"
   ]
  },
  {
   "cell_type": "markdown",
   "metadata": {},
   "source": [
    "**（4）训练并保存模型**\n",
    "\n",
    "Executor接收传入的program,并根据feed map(输入映射表)和fetch_list(结果获取表) 向program中添加feed operators(数据输入算子)和fetch operators（结果获取算子)。 feed map为该program提供输入数据。fetch_list提供program训练结束后用户预期的变量。\n",
    "\n",
    "使用feed方式送入训练数据，先将reader数据转换为PaddlePaddle可识别的Tensor数据，传入执行器进行训练。\n",
    "\n",
    "注：enumerate() 函数用于将一个可遍历的数据对象(如列表、元组或字符串)组合为一个索引序列，同时列出数据和数据下标，"
   ]
  },
  {
   "cell_type": "code",
   "execution_count": 10,
   "metadata": {},
   "outputs": [
    {
     "name": "stdout",
     "output_type": "stream",
     "text": [
      "Pass:0, Cost:639.37634\n",
      "Test:0, Cost:407.26703\n",
      "Pass:1, Cost:763.26874\n",
      "Test:1, Cost:170.19537\n",
      "Pass:2, Cost:493.03906\n",
      "Test:2, Cost:87.85448\n",
      "Pass:3, Cost:434.82269\n",
      "Test:3, Cost:313.44263\n",
      "Pass:4, Cost:587.00281\n",
      "Test:4, Cost:290.13129\n",
      "Pass:5, Cost:461.11407\n",
      "Test:5, Cost:226.28157\n",
      "Pass:6, Cost:586.06024\n",
      "Test:6, Cost:126.02113\n",
      "Pass:7, Cost:245.51877\n",
      "Test:7, Cost:96.78642\n",
      "Pass:8, Cost:221.80449\n",
      "Test:8, Cost:195.00177\n",
      "Pass:9, Cost:400.07529\n",
      "Test:9, Cost:58.26660\n",
      "Pass:10, Cost:362.73026\n",
      "Test:10, Cost:131.42673\n",
      "Pass:11, Cost:291.66852\n",
      "Test:11, Cost:228.32159\n",
      "Pass:12, Cost:326.76160\n",
      "Test:12, Cost:70.36818\n",
      "Pass:13, Cost:351.08807\n",
      "Test:13, Cost:93.24611\n",
      "Pass:14, Cost:418.09073\n",
      "Test:14, Cost:283.07736\n",
      "Pass:15, Cost:303.74341\n",
      "Test:15, Cost:76.10291\n",
      "Pass:16, Cost:142.28770\n",
      "Test:16, Cost:63.64618\n",
      "Pass:17, Cost:219.41177\n",
      "Test:17, Cost:13.13204\n",
      "Pass:18, Cost:178.85115\n",
      "Test:18, Cost:1.81857\n",
      "Pass:19, Cost:136.97774\n",
      "Test:19, Cost:108.99950\n",
      "Pass:20, Cost:112.27168\n",
      "Test:20, Cost:55.04321\n",
      "Pass:21, Cost:160.97794\n",
      "Test:21, Cost:66.65078\n",
      "Pass:22, Cost:181.88278\n",
      "Test:22, Cost:51.08599\n",
      "Pass:23, Cost:129.88762\n",
      "Test:23, Cost:132.76678\n",
      "Pass:24, Cost:41.64246\n",
      "Test:24, Cost:7.46352\n",
      "Pass:25, Cost:126.70003\n",
      "Test:25, Cost:39.28518\n",
      "Pass:26, Cost:61.89040\n",
      "Test:26, Cost:8.01807\n",
      "Pass:27, Cost:38.93920\n",
      "Test:27, Cost:20.87302\n",
      "Pass:28, Cost:181.70695\n",
      "Test:28, Cost:33.08773\n",
      "Pass:29, Cost:209.92355\n",
      "Test:29, Cost:4.21837\n",
      "Pass:30, Cost:59.31600\n",
      "Test:30, Cost:0.15279\n",
      "Pass:31, Cost:115.22939\n",
      "Test:31, Cost:12.32019\n",
      "Pass:32, Cost:25.30877\n",
      "Test:32, Cost:20.97932\n",
      "Pass:33, Cost:76.70000\n",
      "Test:33, Cost:2.07714\n",
      "Pass:34, Cost:60.57741\n",
      "Test:34, Cost:7.37477\n",
      "Pass:35, Cost:13.46526\n",
      "Test:35, Cost:59.39762\n",
      "Pass:36, Cost:167.16319\n",
      "Test:36, Cost:5.14909\n",
      "Pass:37, Cost:150.56131\n",
      "Test:37, Cost:7.42269\n",
      "Pass:38, Cost:53.76777\n",
      "Test:38, Cost:3.43053\n",
      "Pass:39, Cost:38.87734\n",
      "Test:39, Cost:27.78036\n",
      "Pass:40, Cost:104.59409\n",
      "Test:40, Cost:2.43276\n",
      "Pass:41, Cost:31.54472\n",
      "Test:41, Cost:0.62362\n",
      "Pass:42, Cost:116.62778\n",
      "Test:42, Cost:8.77179\n",
      "Pass:43, Cost:20.18156\n",
      "Test:43, Cost:15.92855\n",
      "Pass:44, Cost:40.30474\n",
      "Test:44, Cost:4.05180\n",
      "Pass:45, Cost:106.03574\n",
      "Test:45, Cost:4.84699\n",
      "Pass:46, Cost:30.28591\n",
      "Test:46, Cost:0.42055\n",
      "Pass:47, Cost:9.34841\n",
      "Test:47, Cost:6.70751\n",
      "Pass:48, Cost:59.79189\n",
      "Test:48, Cost:40.95799\n",
      "Pass:49, Cost:193.87012\n",
      "Test:49, Cost:8.51955\n",
      "save models to fit_a_line.inference.model\n"
     ]
    },
    {
     "data": {
      "image/png": "[encoded data removed]",
      "text/plain": [
       "<Figure size 432x288 with 1 Axes>"
      ]
     },
     "metadata": {
      "needs_background": "light"
     },
     "output_type": "display_data"
    }
   ],
   "source": [
    "EPOCH_NUM=50\n",
    "model_save_dir = \"fit_a_line.inference.model\"\n",
    "\n",
    "for pass_id in range(EPOCH_NUM):                                  #训练EPOCH_NUM轮\n",
    "    # 开始训练并输出最后一个batch的损失值\n",
    "    train_cost = 0\n",
    "    for batch_id, data in enumerate(train_reader()):              #遍历train_reader迭代器\n",
    "        train_cost = exe.run(program=fluid.default_main_program(),#运行主程序\n",
    "                             feed=feeder.feed(data),              #喂入一个batch的训练数据，根据feed_list和data提供的信息，将输入数据转成一种特殊的数据结构\n",
    "                             fetch_list=[avg_cost])    \n",
    "        if batch_id % 40 == 0:\n",
    "            print(\"Pass:%d, Cost:%0.5f\" % (pass_id, train_cost[0][0]))    #打印最后一个batch的损失值\n",
    "        iter=iter+BATCH_SIZE\n",
    "        iters.append(iter)\n",
    "        train_costs.append(train_cost[0][0])\n",
    "       \n",
    "   \n",
    "    # 开始测试并输出最后一个batch的损失值\n",
    "    test_cost = 0\n",
    "    for batch_id, data in enumerate(test_reader()):               #遍历test_reader迭代器\n",
    "        test_cost= exe.run(program=test_program, #运行测试cheng\n",
    "                            feed=feeder.feed(data),               #喂入一个batch的测试数据\n",
    "                            fetch_list=[avg_cost])                #fetch均方误差\n",
    "    print('Test:%d, Cost:%0.5f' % (pass_id, test_cost[0][0]))     #打印最后一个batch的损失值\n",
    "    \n",
    "    #保存模型\n",
    "    # 如果保存路径不存在就创建\n",
    "if not os.path.exists(model_save_dir):\n",
    "    os.makedirs(model_save_dir)\n",
    "print ('save models to %s' % (model_save_dir))\n",
    "#保存训练参数到指定路径中，构建一个专门用预测的program\n",
    "fluid.io.save_inference_model(model_save_dir,   #保存推理model的路径\n",
    "                                  ['x'],            #推理（inference）需要 feed 的数据\n",
    "                                  [y_predict],      #保存推理（inference）结果的 Variables\n",
    "                                  exe)              #exe 保存 inference model\n",
    "draw_train_process(iters,train_costs)"
   ]
  },
  {
   "cell_type": "code",
   "execution_count": null,
   "metadata": {},
   "outputs": [],
   "source": []
  },
  {
   "cell_type": "markdown",
   "metadata": {},
   "source": [
    "\n",
    "# **Step5.模型预测**\n",
    "\n",
    "**（1）创建预测用的Executor**"
   ]
  },
  {
   "cell_type": "code",
   "execution_count": 11,
   "metadata": {},
   "outputs": [],
   "source": [
    "infer_exe = fluid.Executor(place)    #创建推测用的executor\n",
    "inference_scope = fluid.core.Scope() #Scope指定作用域"
   ]
  },
  {
   "cell_type": "markdown",
   "metadata": {},
   "source": [
    "**（2）可视化真实值与预测值方法定义**"
   ]
  },
  {
   "cell_type": "code",
   "execution_count": 12,
   "metadata": {},
   "outputs": [],
   "source": [
    "infer_results=[]\n",
    "groud_truths=[]\n",
    "\n",
    "%matplotlib inline\n",
    "\n",
    "#绘制真实值和预测值对比图\n",
    "def draw_infer_result(groud_truths,infer_results):\n",
    "    title='Boston'\n",
    "    plt.title(title, fontsize=24)\n",
    "    x = np.arange(1,20) \n",
    "    y = x\n",
    "    plt.plot(x, y)\n",
    "    plt.xlabel('ground truth', fontsize=14)\n",
    "    plt.ylabel('infer result', fontsize=14)\n",
    "    plt.scatter(groud_truths, infer_results,color='green',label='training cost') \n",
    "    plt.grid()\n",
    "    plt.show()"
   ]
  },
  {
   "cell_type": "markdown",
   "metadata": {},
   "source": [
    "**(3)开始预测**\n",
    "\n",
    "通过fluid.io.load_inference_model，预测器会从params_dirname中读取已经训练好的模型，来对从未遇见过的数据进行预测。"
   ]
  },
  {
   "cell_type": "code",
   "execution_count": 13,
   "metadata": {},
   "outputs": [
    {
     "name": "stderr",
     "output_type": "stream",
     "text": [
      "\n"
     ]
    },
    {
     "name": "stdout",
     "output_type": "stream",
     "text": [
      "infer results: (House Price)\n",
      "0: 13.22\n",
      "1: 13.07\n",
      "2: 13.33\n",
      "3: 14.48\n",
      "4: 13.75\n",
      "5: 13.96\n",
      "6: 13.25\n",
      "7: 13.38\n",
      "8: 11.87\n",
      "9: 13.39\n",
      "10: 11.24\n",
      "11: 12.52\n",
      "12: 13.09\n",
      "13: 12.77\n",
      "14: 12.14\n",
      "15: 13.54\n",
      "16: 14.35\n",
      "17: 14.35\n",
      "18: 14.61\n",
      "19: 13.35\n",
      "20: 13.94\n",
      "21: 12.75\n",
      "22: 14.33\n",
      "23: 13.53\n",
      "24: 13.74\n",
      "25: 13.15\n",
      "26: 14.08\n",
      "27: 13.90\n",
      "28: 14.77\n",
      "29: 13.95\n",
      "30: 13.70\n",
      "31: 13.27\n",
      "32: 13.29\n",
      "33: 12.45\n",
      "34: 12.32\n",
      "35: 13.94\n",
      "36: 13.88\n",
      "37: 14.29\n",
      "38: 14.46\n",
      "39: 14.29\n",
      "40: 13.36\n",
      "41: 12.97\n",
      "42: 14.24\n",
      "43: 14.47\n",
      "44: 14.41\n",
      "45: 14.14\n",
      "46: 13.54\n",
      "47: 14.51\n",
      "48: 14.66\n",
      "49: 14.78\n",
      "50: 13.41\n",
      "51: 13.73\n",
      "52: 13.39\n",
      "53: 13.60\n",
      "54: 14.52\n",
      "55: 14.94\n",
      "56: 14.47\n",
      "57: 14.97\n",
      "58: 15.08\n",
      "59: 15.26\n",
      "60: 15.58\n",
      "61: 15.59\n",
      "62: 13.78\n",
      "63: 14.44\n",
      "64: 15.06\n",
      "65: 15.61\n",
      "66: 15.26\n",
      "67: 15.51\n",
      "68: 15.62\n",
      "69: 15.90\n",
      "70: 14.49\n",
      "71: 14.11\n",
      "72: 14.87\n",
      "73: 13.77\n",
      "74: 14.64\n",
      "75: 15.08\n",
      "76: 16.13\n",
      "77: 16.26\n",
      "78: 16.37\n",
      "79: 16.55\n",
      "80: 16.14\n",
      "81: 16.31\n",
      "82: 15.40\n",
      "83: 16.05\n",
      "84: 16.14\n",
      "85: 15.47\n",
      "86: 14.93\n",
      "87: 16.16\n",
      "88: 16.79\n",
      "89: 20.70\n",
      "90: 20.86\n",
      "91: 20.80\n",
      "92: 19.68\n",
      "93: 20.30\n",
      "94: 20.51\n",
      "95: 20.09\n",
      "96: 20.16\n",
      "97: 21.44\n",
      "98: 21.22\n",
      "99: 21.40\n",
      "100: 21.33\n",
      "101: 21.21\n",
      "ground truth:\n",
      "0: 8.50\n",
      "1: 5.00\n",
      "2: 11.90\n",
      "3: 27.90\n",
      "4: 17.20\n",
      "5: 27.50\n",
      "6: 15.00\n",
      "7: 17.20\n",
      "8: 17.90\n",
      "9: 16.30\n",
      "10: 7.00\n",
      "11: 7.20\n",
      "12: 7.50\n",
      "13: 10.40\n",
      "14: 8.80\n",
      "15: 8.40\n",
      "16: 16.70\n",
      "17: 14.20\n",
      "18: 20.80\n",
      "19: 13.40\n",
      "20: 11.70\n",
      "21: 8.30\n",
      "22: 10.20\n",
      "23: 10.90\n",
      "24: 11.00\n",
      "25: 9.50\n",
      "26: 14.50\n",
      "27: 14.10\n",
      "28: 16.10\n",
      "29: 14.30\n",
      "30: 11.70\n",
      "31: 13.40\n",
      "32: 9.60\n",
      "33: 8.70\n",
      "34: 8.40\n",
      "35: 12.80\n",
      "36: 10.50\n",
      "37: 17.10\n",
      "38: 18.40\n",
      "39: 15.40\n",
      "40: 10.80\n",
      "41: 11.80\n",
      "42: 14.90\n",
      "43: 12.60\n",
      "44: 14.10\n",
      "45: 13.00\n",
      "46: 13.40\n",
      "47: 15.20\n",
      "48: 16.10\n",
      "49: 17.80\n",
      "50: 14.90\n",
      "51: 14.10\n",
      "52: 12.70\n",
      "53: 13.50\n",
      "54: 14.90\n",
      "55: 20.00\n",
      "56: 16.40\n",
      "57: 17.70\n",
      "58: 19.50\n",
      "59: 20.20\n",
      "60: 21.40\n",
      "61: 19.90\n",
      "62: 19.00\n",
      "63: 19.10\n",
      "64: 19.10\n",
      "65: 20.10\n",
      "66: 19.90\n",
      "67: 19.60\n",
      "68: 23.20\n",
      "69: 29.80\n",
      "70: 13.80\n",
      "71: 13.30\n",
      "72: 16.70\n",
      "73: 12.00\n",
      "74: 14.60\n",
      "75: 21.40\n",
      "76: 23.00\n",
      "77: 23.70\n",
      "78: 25.00\n",
      "79: 21.80\n",
      "80: 20.60\n",
      "81: 21.20\n",
      "82: 19.10\n",
      "83: 20.60\n",
      "84: 15.20\n",
      "85: 7.00\n",
      "86: 8.10\n",
      "87: 13.60\n",
      "88: 20.10\n",
      "89: 21.80\n",
      "90: 24.50\n",
      "91: 23.10\n",
      "92: 19.70\n",
      "93: 18.30\n",
      "94: 21.20\n",
      "95: 17.50\n",
      "96: 16.80\n",
      "97: 22.40\n",
      "98: 20.60\n",
      "99: 23.90\n",
      "100: 22.00\n",
      "101: 11.90\n"
     ]
    },
    {
     "data": {
      "image/png": "[encoded data removed]",
      "text/plain": [
       "<Figure size 432x288 with 1 Axes>"
      ]
     },
     "metadata": {
      "needs_background": "light"
     },
     "output_type": "display_data"
    }
   ],
   "source": [
    "with fluid.scope_guard(inference_scope):#修改全局/默认作用域（scope）, 运行时中的所有变量都将分配给新的scope。\n",
    "    #从指定目录中加载 推理model(inference model)\n",
    "    [inference_program,                             #推理的program\n",
    "     feed_target_names,                             #需要在推理program中提供数据的变量名称\n",
    "     fetch_targets] = fluid.io.load_inference_model(#fetch_targets: 推断结果\n",
    "                                    model_save_dir, #model_save_dir:模型训练路径 \n",
    "                                    infer_exe)      #infer_exe: 预测用executor\n",
    "    #获取预测数据\n",
    "    infer_reader = paddle.batch(paddle.dataset.uci_housing.test(),  #获取uci_housing的测试数据\n",
    "                          batch_size=200)                           #从测试数据中读取一个大小为200的batch数据\n",
    "    #从test_reader中分割x\n",
    "    test_data = next(infer_reader())\n",
    "    test_x = np.array([data[0] for data in test_data]).astype(\"float32\")\n",
    "    test_y= np.array([data[1] for data in test_data]).astype(\"float32\")\n",
    "    results = infer_exe.run(inference_program,                              #预测模型\n",
    "                            feed={feed_target_names[0]: np.array(test_x)},  #喂入要预测的x值\n",
    "                            fetch_list=fetch_targets)                       #得到推测结果 \n",
    "                            \n",
    "    print(\"infer results: (House Price)\")\n",
    "    for idx, val in enumerate(results[0]):\n",
    "        print(\"%d: %.2f\" % (idx, val))\n",
    "        infer_results.append(val)\n",
    "    print(\"ground truth:\")\n",
    "    for idx, val in enumerate(test_y):\n",
    "        print(\"%d: %.2f\" % (idx, val))\n",
    "        groud_truths.append(val)\n",
    "    draw_infer_result(groud_truths,infer_results)"
   ]
  },
  {
   "cell_type": "code",
   "execution_count": null,
   "metadata": {},
   "outputs": [],
   "source": []
  }
 ],
 "metadata": {
  "kernelspec": {
   "display_name": "Python 3",
   "language": "python",
   "name": "python3"
  },
  "language_info": {
   "codemirror_mode": {
    "name": "ipython",
    "version": 3
   },
   "file_extension": ".py",
   "mimetype": "text/x-python",
   "name": "python",
   "nbconvert_exporter": "python",
   "pygments_lexer": "ipython3",
   "version": "3.7.2"
  }
 },
 "nbformat": 4,
 "nbformat_minor": 2
}
