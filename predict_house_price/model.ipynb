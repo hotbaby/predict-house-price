{
 "cells": [
  {
   "cell_type": "markdown",
   "metadata": {},
   "source": [
    "# PaddlePaddle实现线性回归\n",
    "\n",
    "在本次实验中我们将使用PaddlePaddle来搭建一个简单的线性回归模型，并利用这一模型预测你的储蓄（在某地区）可以购买多大面积的房子。并且在学习模型搭建的过程中，了解到机器学习的若干重要概念，掌握一个机器学习预测的基本流程。\n",
    "\n",
    "**线性回归的基本概念**\n",
    "\n",
    "线性回归是机器学习中最简单也是最重要的模型之一，其模型建立遵循此流程：获取数据、数据预处理、训练模型、应用模型。\n",
    "\n",
    "回归模型可以理解为：存在一个点集，用一条曲线去拟合它分布的过程。如果拟合曲线是一条直线，则称为线性回归。如果是一条二次曲线，则被称为二次回归。线性回归是回归模型中最简单的一种。\n",
    "\n",
    "在线性回归中有几个基本的概念需要掌握：\n",
    "- 假设函数（Hypothesis Function）\n",
    "- 损失函数（Loss Function）\n",
    "- 优化算法（Optimization Algori# PaddlePaddle实现线性回归\n",
    "\n",
    "在本次实验中我们将使用PaddlePaddle来搭建一个简单的线性回归模型，并利用这一模型预测你的储蓄（在某地区）可以购买多大面积的房子。并且在学习模型搭建的过程中，了解到机器学习的若干重要概念，掌握一个机器学习预测的基本流程。\n",
    "\n",
    "**线性回归的基本概念**\n",
    "\n",
    "线性回归是机器学习中最简单也是最重要的模型之一，其模型建立遵循此流程：获取数据、数据预处理、训练模型、应用模型。\n",
    "\n",
    "回归模型可以理解为：存在一个点集，用一条曲线去拟合它分布的过程。如果拟合曲线是一条直线，则称为线性回归。如果是一条二次曲线，则被称为二次回归。线性回归是回归模型中最简单的一种。\n",
    "\n",
    "在线性回归中有几个基本的概念需要掌握：\n",
    "- 假设函数（Hypothesis Function）\n",
    "- 损失函数（Loss Function）\n",
    "- 优化算法（Optimization Algorithm）\n",
    "\n",
    "#### 假设函数：\n",
    "\n",
    "假设函数是指，用数学的方法描述自变量和因变量之间的关系，它们之间可以是一个线性函数或非线性函数。\n",
    "在本次线性回顾模型中，我们的假设函数为 $\\hat{Y}= aX_1+b$ ，其中，$\\hat{Y}$表示模型的预测结果（预测房价），用来和真实的Y区分。模型要学习的参数即：a,b。\n",
    "\n",
    "#### 损失函数：\n",
    "\n",
    "损失函数是指，用数学的方法衡量假设函数预测结果与真实值之间的误差。这个差距越小预测越准确，而算法的任务就是使这个差距越来越小。\n",
    "\n",
    "建立模型后，我们需要给模型一个优化目标，使得学到的参数能够让预测值$\\hat{Y}$尽可能地接近真实值Y。输入任意一个数据样本的目标值$y_i$和模型给出的预测值$\\hat{Y_i$，损失函数输出一个非负的实值。这个实值通常用来反映模型误差的大小。\n",
    "\n",
    "对于线性模型来讲，最常用的损失函数就是均方误差（Mean Squared Error， MSE）。\n",
    "\n",
    "$MSE=\\frac{1}{n}\\sum_{i=1}^{n}(\\hat{Y_i}-Y_i)^2$\n",
    "\n",
    "即对于一个大小为n的测试集，MSE是n个数据预测结果误差平方的均值。\n",
    "\n",
    "#### 优化算法：\n",
    "\n",
    "在模型训练中优化算法也是至关重要的，它决定了一个模型的精度和运算速度。本章的线性回归实例中主要使用了梯度下降法进行优化。\n",
    "\n",
    "现在，让我们正式进入实验吧！thm）\n",
    "\n",
    "#### 假设函数：\n",
    "\n",
    "假设函数是指，用数学的方法描述自变量和因变量之间的关系，它们之间可以是一个线性函数或非线性函数。\n",
    "在本次线性回顾模型中，我们的假设函数为 $\\hat{Y}= aX_1+b$ ，其中，$\\hat{Y}$表示模型的预测结果（预测房价），用来和真实的Y区分。模型要学习的参数即：a,b。\n",
    "\n",
    "#### 损失函数：\n",
    "\n",
    "损失函数是指，用数学的方法衡量假设函数预测结果与真实值之间的误差。这个差距越小预测越准确，而算法的任务就是使这个差距越来越小。\n",
    "\n",
    "建立模型后，我们需要给模型一个优化目标，使得学到的参数能够让预测值$\\hat{Y}$尽可能地接近真实值Y。输入任意一个数据样本的目标值$y_i$和模型给出的预测值$\\hat{Y_i$，损失函数输出一个非负的实值。这个实值通常用来反映模型误差的大小。\n",
    "\n",
    "对于线性模型来讲，最常用的损失函数就是均方误差（Mean Squared Error， MSE）。\n",
    "\n",
    "$MSE=\\frac{1}{n}\\sum_{i=1}^{n}(\\hat{Y_i}-Y_i)^2$\n",
    "\n",
    "即对于一个大小为n的测试集，MSE是n个数据预测结果误差平方的均值。\n",
    "\n",
    "#### 优化算法：\n",
    "\n",
    "在模型训练中优化算法也是至关重要的，它决定了一个模型的精度和运算速度。本章的线性回归实例中主要使用了梯度下降法进行优化。\n",
    "\n",
    "现在，让我们正式进入实验吧！"
   ]
  },
  {
   "cell_type": "markdown",
   "metadata": {},
   "source": [
    "**首先导入必要的包**，分别是：\n",
    "\n",
    "**paddle.fluid**--->PaddlePaddle深度学习框架\n",
    "\n",
    "**numpy**---------->python基本库，用于科学计算\n",
    "\n",
    "**os**------------------>python的模块，可使用该模块对操作系统进行操作\n",
    "\n",
    "**matplotlib**----->python绘图库，可方便绘制折线图、散点图等图形"
   ]
  },
  {
   "cell_type": "code",
   "execution_count": 1,
   "metadata": {},
   "outputs": [],
   "source": [
    "import paddle.fluid as fluid\n",
    "import paddle\n",
    "import numpy as np\n",
    "import os\n",
    "import matplotlib.pyplot as plt\n",
    "\n",
    "%matplotlib inline\n",
    "\n"
   ]
  },
  {
   "cell_type": "markdown",
   "metadata": {},
   "source": [
    "# **Step1：准备数据。**\n",
    "\n",
    "（1）uci-housing数据集介绍\n",
    "\n",
    "数据集共506行,每行14列。前13列用来描述房屋的各种信息，最后一列为该类房屋价格中位数。\n",
    "\n",
    "PaddlePaddle提供了读取uci_housing训练集和测试集的接口，分别为paddle.dataset.uci_housing.train()和paddle.dataset.uci_housing.test()。\n",
    "\n",
    "(2)train_reader和test_reader\n",
    "\n",
    "paddle.reader.shuffle()表示每次缓存BUF_SIZE个数据项，并进行打乱\n",
    "\n",
    "paddle.batch()表示每BATCH_SIZE组成一个batch"
   ]
  },
  {
   "cell_type": "code",
   "execution_count": 2,
   "metadata": {},
   "outputs": [
    {
     "name": "stderr",
     "output_type": "stream",
     "text": [
      "\n",
      "\n"
     ]
    }
   ],
   "source": [
    "BUF_SIZE=500\n",
    "BATCH_SIZE=20\n",
    "\n",
    "#用于训练的数据提供器，每次从缓存中随机读取批次大小的数据\n",
    "train_reader = paddle.batch(\n",
    "    paddle.reader.shuffle(paddle.dataset.uci_housing.train(), \n",
    "                          buf_size=BUF_SIZE),                    \n",
    "    batch_size=BATCH_SIZE)   \n",
    "#用于测试的数据提供器，每次从缓存中随机读取批次大小的数据\n",
    "test_reader = paddle.batch(\n",
    "    paddle.reader.shuffle(paddle.dataset.uci_housing.test(),\n",
    "                          buf_size=BUF_SIZE),\n",
    "    batch_size=BATCH_SIZE)\n"
   ]
  },
  {
   "cell_type": "markdown",
   "metadata": {},
   "source": [
    "(3)打印看下数据是什么样的？PaddlePaddle接口提供的数据已经经过归一化等处理\n",
    "\n",
    "(array([-0.02964322, -0.11363636,  0.39417967, -0.06916996,  0.14260276,\n",
    "       -0.10109875,  0.30715859, -0.13176829, -0.24127857,  0.05489093,\n",
    "        0.29196451, -0.2368098 ,  0.12850267]), array([15.6])),"
   ]
  },
  {
   "cell_type": "code",
   "execution_count": 3,
   "metadata": {},
   "outputs": [
    {
     "name": "stdout",
     "output_type": "stream",
     "text": [
      "(array([-0.0405441 ,  0.06636364, -0.32356227, -0.06916996, -0.03435197,\n",
      "        0.05563625, -0.03475696,  0.02682186, -0.37171335, -0.21419304,\n",
      "       -0.33569506,  0.10143217, -0.21172912]), array([24.]))\n"
     ]
    },
    {
     "name": "stderr",
     "output_type": "stream",
     "text": [
      "\n"
     ]
    }
   ],
   "source": [
    "#用于打印，查看uci_housing数据\n",
    "train_data=paddle.dataset.uci_housing.train();\n",
    "sampledata=next(train_data())\n",
    "print(sampledata)"
   ]
  },
  {
   "cell_type": "markdown",
   "metadata": {},
   "source": [
    "# **Step2:网络配置**\n",
    "\n",
    "**（1）网络搭建**：对于线性回归来讲，它就是一个从输入到输出的简单的全连接层。\n",
    "\n",
    "对于波士顿房价数据集，假设属性和房价之间的关系可以被属性间的线性组合描述。\n",
    "\n",
    "![](https://ai-studio-static-online.cdn.bcebos.com/f3f567e7aa7a499fb3abb767aaaa1b943eed373cf4694d87beb382e161ea8edc)\n",
    "\n",
    "![](https://ai-studio-static-online.cdn.bcebos.com/f6c44a96e1624828829bbd438c29c17ead9ecc45c68b4310bfbbb0a4dc96c3fe)\n"
   ]
  },
  {
   "cell_type": "code",
   "execution_count": 4,
   "metadata": {},
   "outputs": [],
   "source": [
    "#定义张量变量x，表示13维的特征值\n",
    "x = fluid.layers.data(name='x', shape=[13], dtype='float32')\n",
    "#定义张量y,表示目标值\n",
    "y = fluid.layers.data(name='y', shape=[1], dtype='float32')\n",
    "#定义一个简单的线性网络,连接输入和输出的全连接层\n",
    "#input:输入tensor;\n",
    "#size:该层输出单元的数目\n",
    "#act:激活函数\n",
    "y_predict=fluid.layers.fc(input=x,size=1,act=None)"
   ]
  },
  {
   "cell_type": "markdown",
   "metadata": {},
   "source": [
    "**(2)定义损失函数**\n",
    "\n",
    "此处使用均方差损失函数。\n",
    "\n",
    "square_error_cost(input,lable):接受输入预测值和目标值，并返回方差估计,即为（y-y_predict）的平方"
   ]
  },
  {
   "cell_type": "code",
   "execution_count": 5,
   "metadata": {},
   "outputs": [],
   "source": [
    "cost = fluid.layers.square_error_cost(input=y_predict, label=y) #求一个batch的损失值\n",
    "avg_cost = fluid.layers.mean(cost)                              #对损失值求平均值"
   ]
  },
  {
   "cell_type": "markdown",
   "metadata": {},
   "source": [
    "**(3)定义优化函数**\n",
    "\n",
    "此处使用的是随机梯度下降。"
   ]
  },
  {
   "cell_type": "code",
   "execution_count": 6,
   "metadata": {},
   "outputs": [],
   "source": [
    "test_program = fluid.default_main_program().clone(for_test=True)\n",
    "optimizer = fluid.optimizer.SGDOptimizer(learning_rate=0.001)\n",
    "opts = optimizer.minimize(avg_cost)"
   ]
  },
  {
   "cell_type": "markdown",
   "metadata": {},
   "source": [
    "在上述模型配置完毕后，得到两个fluid.Program：fluid.default_startup_program() 与fluid.default_main_program() 配置完毕了。\n",
    "\n",
    "参数初始化操作会被写入**fluid.default_startup_program()**\n",
    "\n",
    "**fluid.default_main_program**()用于获取默认或全局main program(主程序)。该主程序用于训练和测试模型。fluid.layers 中的所有layer函数可以向 default_main_program 中添加算子和变量。default_main_program 是fluid的许多编程接口（API）的Program参数的缺省值。例如,当用户program没有传入的时候， Executor.run() 会默认执行 default_main_program 。"
   ]
  },
  {
   "cell_type": "markdown",
   "metadata": {},
   "source": [
    "# **Step3.模型训练** and **Step4.模型评估**"
   ]
  },
  {
   "cell_type": "markdown",
   "metadata": {},
   "source": [
    "**（1）创建Executor**\n",
    "\n",
    "首先定义运算场所 fluid.CPUPlace()和 fluid.CUDAPlace(0)分别表示运算场所为CPU和GPU\n",
    "\n",
    "Executor:接收传入的program，通过run()方法运行program。"
   ]
  },
  {
   "cell_type": "code",
   "execution_count": 7,
   "metadata": {},
   "outputs": [
    {
     "data": {
      "text/plain": [
       "[]"
      ]
     },
     "execution_count": 7,
     "metadata": {},
     "output_type": "execute_result"
    }
   ],
   "source": [
    "\n",
    "use_cuda = False                         #use_cuda为False,表示运算场所为CPU;use_cuda为True,表示运算场所为GPU           \n",
    "place = fluid.CUDAPlace(0) if use_cuda else fluid.CPUPlace()\n",
    "exe = fluid.Executor(place)              #创建一个Executor实例exe\n",
    "exe.run(fluid.default_startup_program()) #Executor的run()方法执行startup_program(),进行参数初始化"
   ]
  },
  {
   "cell_type": "markdown",
   "metadata": {},
   "source": [
    "**（2）定义输入数据维度**\n",
    "\n",
    "DataFeeder负责将数据提供器（train_reader,test_reader）返回的数据转成一种特殊的数据结构，使其可以输入到Executor中。\n",
    "\n",
    "feed_list设置向模型输入的向变量表或者变量表名"
   ]
  },
  {
   "cell_type": "code",
   "execution_count": 8,
   "metadata": {},
   "outputs": [],
   "source": [
    "# 定义输入数据维度\n",
    "feeder = fluid.DataFeeder(place=place, feed_list=[x, y])#feed_list:向模型输入的变量表或变量表名"
   ]
  },
  {
   "cell_type": "markdown",
   "metadata": {},
   "source": [
    "**（3）定义绘制训练过程的损失值变化趋势的方法draw_train_process**"
   ]
  },
  {
   "cell_type": "code",
   "execution_count": 9,
   "metadata": {},
   "outputs": [],
   "source": [
    "iter=0;\n",
    "iters=[]\n",
    "train_costs=[]\n",
    "\n",
    "%matplotlib inline\n",
    "\n",
    "def draw_train_process(iters,train_costs):\n",
    "    title=\"training cost\"\n",
    "    plt.title(title, fontsize=24)\n",
    "    plt.xlabel(\"iter\", fontsize=14)\n",
    "    plt.ylabel(\"cost\", fontsize=14)\n",
    "    plt.plot(iters, train_costs,color='red',label='training cost') \n",
    "    plt.grid()\n",
    "    plt.show()"
   ]
  },
  {
   "cell_type": "markdown",
   "metadata": {},
   "source": [
    "**（4）训练并保存模型**\n",
    "\n",
    "Executor接收传入的program,并根据feed map(输入映射表)和fetch_list(结果获取表) 向program中添加feed operators(数据输入算子)和fetch operators（结果获取算子)。 feed map为该program提供输入数据。fetch_list提供program训练结束后用户预期的变量。\n",
    "\n",
    "使用feed方式送入训练数据，先将reader数据转换为PaddlePaddle可识别的Tensor数据，传入执行器进行训练。\n",
    "\n",
    "注：enumerate() 函数用于将一个可遍历的数据对象(如列表、元组或字符串)组合为一个索引序列，同时列出数据和数据下标，"
   ]
  },
  {
   "cell_type": "code",
   "execution_count": 10,
   "metadata": {},
   "outputs": [
    {
     "name": "stdout",
     "output_type": "stream",
     "text": [
      "Pass:0, Cost:619.82227\n",
      "Test:0, Cost:141.72305\n",
      "Pass:1, Cost:746.46027\n",
      "Test:1, Cost:359.46753\n",
      "Pass:2, Cost:474.98975\n",
      "Test:2, Cost:215.14159\n",
      "Pass:3, Cost:580.26208\n",
      "Test:3, Cost:254.58615\n",
      "Pass:4, Cost:532.25281\n",
      "Test:4, Cost:53.97591\n",
      "Pass:5, Cost:533.68201\n",
      "Test:5, Cost:169.25745\n",
      "Pass:6, Cost:456.59164\n",
      "Test:6, Cost:113.26625\n",
      "Pass:7, Cost:370.53857\n",
      "Test:7, Cost:120.86108\n",
      "Pass:8, Cost:319.10526\n",
      "Test:8, Cost:11.61759\n",
      "Pass:9, Cost:357.33276\n",
      "Test:9, Cost:102.94339\n",
      "Pass:10, Cost:273.94711\n",
      "Test:10, Cost:292.22534\n",
      "Pass:11, Cost:576.05505\n",
      "Test:11, Cost:36.83635\n",
      "Pass:12, Cost:175.41475\n",
      "Test:12, Cost:127.37498\n",
      "Pass:13, Cost:227.66391\n",
      "Test:13, Cost:44.11767\n",
      "Pass:14, Cost:268.15991\n",
      "Test:14, Cost:32.11777\n",
      "Pass:15, Cost:229.61235\n",
      "Test:15, Cost:8.99586\n",
      "Pass:16, Cost:272.65781\n",
      "Test:16, Cost:45.88449\n",
      "Pass:17, Cost:305.46036\n",
      "Test:17, Cost:91.64927\n",
      "Pass:18, Cost:222.51082\n",
      "Test:18, Cost:246.88583\n",
      "Pass:19, Cost:268.94257\n",
      "Test:19, Cost:80.41565\n",
      "Pass:20, Cost:50.72572\n",
      "Test:20, Cost:3.10974\n",
      "Pass:21, Cost:94.36638\n",
      "Test:21, Cost:71.85393\n",
      "Pass:22, Cost:133.00362\n",
      "Test:22, Cost:161.42352\n",
      "Pass:23, Cost:190.93982\n",
      "Test:23, Cost:36.86950\n",
      "Pass:24, Cost:146.01151\n",
      "Test:24, Cost:29.05852\n",
      "Pass:25, Cost:101.92345\n",
      "Test:25, Cost:31.04666\n",
      "Pass:26, Cost:81.95712\n",
      "Test:26, Cost:17.83510\n",
      "Pass:27, Cost:67.87257\n",
      "Test:27, Cost:16.46137\n",
      "Pass:28, Cost:101.35247\n",
      "Test:28, Cost:19.86397\n",
      "Pass:29, Cost:258.94998\n",
      "Test:29, Cost:4.21291\n",
      "Pass:30, Cost:112.94161\n",
      "Test:30, Cost:6.30916\n",
      "Pass:31, Cost:94.81733\n",
      "Test:31, Cost:3.67688\n",
      "Pass:32, Cost:86.47504\n",
      "Test:32, Cost:9.38115\n",
      "Pass:33, Cost:197.13490\n",
      "Test:33, Cost:53.73345\n",
      "Pass:34, Cost:38.72276\n",
      "Test:34, Cost:107.83570\n",
      "Pass:35, Cost:112.24602\n",
      "Test:35, Cost:1.68583\n",
      "Pass:36, Cost:58.65336\n",
      "Test:36, Cost:16.72657\n",
      "Pass:37, Cost:98.69535\n",
      "Test:37, Cost:2.56094\n",
      "Pass:38, Cost:26.54656\n",
      "Test:38, Cost:1.04042\n",
      "Pass:39, Cost:67.13287\n",
      "Test:39, Cost:1.06007\n",
      "Pass:40, Cost:125.35181\n",
      "Test:40, Cost:12.50900\n",
      "Pass:41, Cost:114.08275\n",
      "Test:41, Cost:1.70633\n",
      "Pass:42, Cost:108.05650\n",
      "Test:42, Cost:25.87548\n",
      "Pass:43, Cost:92.49767\n",
      "Test:43, Cost:29.16553\n",
      "Pass:44, Cost:111.59922\n",
      "Test:44, Cost:6.74208\n",
      "Pass:45, Cost:65.05595\n",
      "Test:45, Cost:28.03566\n",
      "Pass:46, Cost:43.06394\n",
      "Test:46, Cost:10.34669\n",
      "Pass:47, Cost:110.12412\n",
      "Test:47, Cost:3.84004\n",
      "Pass:48, Cost:49.67677\n",
      "Test:48, Cost:31.87795\n",
      "Pass:49, Cost:78.87804\n",
      "Test:49, Cost:20.20161\n",
      "save models to fit_a_line.inference.model\n"
     ]
    },
    {
     "data": {
      "image/png": "[encoded data removed]",
      "text/plain": [
       "<Figure size 432x288 with 1 Axes>"
      ]
     },
     "metadata": {
      "needs_background": "light"
     },
     "output_type": "display_data"
    }
   ],
   "source": [
    "EPOCH_NUM=50\n",
    "model_save_dir = \"fit_a_line.inference.model\"\n",
    "\n",
    "for pass_id in range(EPOCH_NUM):                                  #训练EPOCH_NUM轮\n",
    "    # 开始训练并输出最后一个batch的损失值\n",
    "    train_cost = 0\n",
    "    for batch_id, data in enumerate(train_reader()):              #遍历train_reader迭代器\n",
    "        train_cost = exe.run(program=fluid.default_main_program(),#运行主程序\n",
    "                             feed=feeder.feed(data),              #喂入一个batch的训练数据，根据feed_list和data提供的信息，将输入数据转成一种特殊的数据结构\n",
    "                             fetch_list=[avg_cost])    \n",
    "        if batch_id % 40 == 0:\n",
    "            print(\"Pass:%d, Cost:%0.5f\" % (pass_id, train_cost[0][0]))    #打印最后一个batch的损失值\n",
    "        iter=iter+BATCH_SIZE\n",
    "        iters.append(iter)\n",
    "        train_costs.append(train_cost[0][0])\n",
    "       \n",
    "   \n",
    "    # 开始测试并输出最后一个batch的损失值\n",
    "    test_cost = 0\n",
    "    for batch_id, data in enumerate(test_reader()):               #遍历test_reader迭代器\n",
    "        test_cost= exe.run(program=test_program, #运行测试cheng\n",
    "                            feed=feeder.feed(data),               #喂入一个batch的测试数据\n",
    "                            fetch_list=[avg_cost])                #fetch均方误差\n",
    "    print('Test:%d, Cost:%0.5f' % (pass_id, test_cost[0][0]))     #打印最后一个batch的损失值\n",
    "    \n",
    "    #保存模型\n",
    "    # 如果保存路径不存在就创建\n",
    "if not os.path.exists(model_save_dir):\n",
    "    os.makedirs(model_save_dir)\n",
    "print ('save models to %s' % (model_save_dir))\n",
    "#保存训练参数到指定路径中，构建一个专门用预测的program\n",
    "fluid.io.save_inference_model(model_save_dir,   #保存推理model的路径\n",
    "                                  ['x'],            #推理（inference）需要 feed 的数据\n",
    "                                  [y_predict],      #保存推理（inference）结果的 Variables\n",
    "                                  exe)              #exe 保存 inference model\n",
    "draw_train_process(iters,train_costs)"
   ]
  },
  {
   "cell_type": "code",
   "execution_count": null,
   "metadata": {},
   "outputs": [],
   "source": []
  },
  {
   "cell_type": "markdown",
   "metadata": {},
   "source": [
    "\n",
    "# **Step5.模型预测**\n",
    "\n",
    "**（1）创建预测用的Executor**"
   ]
  },
  {
   "cell_type": "code",
   "execution_count": 11,
   "metadata": {},
   "outputs": [],
   "source": [
    "infer_exe = fluid.Executor(place)    #创建推测用的executor\n",
    "inference_scope = fluid.core.Scope() #Scope指定作用域"
   ]
  },
  {
   "cell_type": "markdown",
   "metadata": {},
   "source": [
    "**（2）可视化真实值与预测值方法定义**"
   ]
  },
  {
   "cell_type": "code",
   "execution_count": 12,
   "metadata": {},
   "outputs": [],
   "source": [
    "infer_results=[]\n",
    "groud_truths=[]\n",
    "\n",
    "%matplotlib inline\n",
    "\n",
    "#绘制真实值和预测值对比图\n",
    "def draw_infer_result(groud_truths,infer_results):\n",
    "    title='Boston'\n",
    "    plt.title(title, fontsize=24)\n",
    "    x = np.arange(1,20) \n",
    "    y = x\n",
    "    plt.plot(x, y)\n",
    "    plt.xlabel('ground truth', fontsize=14)\n",
    "    plt.ylabel('infer result', fontsize=14)\n",
    "    plt.scatter(groud_truths, infer_results,color='green',label='training cost') \n",
    "    plt.grid()\n",
    "    plt.show()"
   ]
  },
  {
   "cell_type": "markdown",
   "metadata": {},
   "source": [
    "**(3)开始预测**\n",
    "\n",
    "通过fluid.io.load_inference_model，预测器会从params_dirname中读取已经训练好的模型，来对从未遇见过的数据进行预测。"
   ]
  },
  {
   "cell_type": "code",
   "execution_count": 13,
   "metadata": {},
   "outputs": [
    {
     "name": "stderr",
     "output_type": "stream",
     "text": [
      "\n"
     ]
    },
    {
     "name": "stdout",
     "output_type": "stream",
     "text": [
      "infer results: (House Price)\n",
      "ground truth:\n"
     ]
    },
    {
     "data": {
      "image/png": "[encoded data removed]",
      "text/plain": [
       "<Figure size 432x288 with 1 Axes>"
      ]
     },
     "metadata": {
      "needs_background": "light"
     },
     "output_type": "display_data"
    }
   ],
   "source": [
    "with fluid.scope_guard(inference_scope):#修改全局/默认作用域（scope）, 运行时中的所有变量都将分配给新的scope。\n",
    "    #从指定目录中加载 推理model(inference model)\n",
    "    [inference_program,                             #推理的program\n",
    "     feed_target_names,                             #需要在推理program中提供数据的变量名称\n",
    "     fetch_targets] = fluid.io.load_inference_model(#fetch_targets: 推断结果\n",
    "                                    model_save_dir, #model_save_dir:模型训练路径 \n",
    "                                    infer_exe)      #infer_exe: 预测用executor\n",
    "    #获取预测数据\n",
    "    infer_reader = paddle.batch(paddle.dataset.uci_housing.test(),  #获取uci_housing的测试数据\n",
    "                          batch_size=200)                           #从测试数据中读取一个大小为200的batch数据\n",
    "    #从test_reader中分割x\n",
    "    test_data = next(infer_reader())\n",
    "    test_x = np.array([data[0] for data in test_data]).astype(\"float32\")\n",
    "    test_y= np.array([data[1] for data in test_data]).astype(\"float32\")\n",
    "    results = infer_exe.run(inference_program,                              #预测模型\n",
    "                            feed={feed_target_names[0]: np.array(test_x)},  #喂入要预测的x值\n",
    "                            fetch_list=fetch_targets)                       #得到推测结果 \n",
    "                            \n",
    "    print(\"infer results: (House Price)\")\n",
    "    for idx, val in enumerate(results[0]):\n",
    "#         print(\"%d: %.2f\" % (idx, val))\n",
    "        infer_results.append(val)\n",
    "    print(\"ground truth:\")\n",
    "    for idx, val in enumerate(test_y):\n",
    "#         print(\"%d: %.2f\" % (idx, val))\n",
    "        groud_truths.append(val)\n",
    "    draw_infer_result(groud_truths,infer_results)"
   ]
  },
  {
   "cell_type": "code",
   "execution_count": null,
   "metadata": {},
   "outputs": [],
   "source": []
  }
 ],
 "metadata": {
  "kernelspec": {
   "display_name": "Python 3",
   "language": "python",
   "name": "python3"
  },
  "language_info": {
   "codemirror_mode": {
    "name": "ipython",
    "version": 3
   },
   "file_extension": ".py",
   "mimetype": "text/x-python",
   "name": "python",
   "nbconvert_exporter": "python",
   "pygments_lexer": "ipython3",
   "version": "3.7.2"
  }
 },
 "nbformat": 4,
 "nbformat_minor": 2
}
